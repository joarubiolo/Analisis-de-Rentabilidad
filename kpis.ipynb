{
 "cells": [
  {
   "cell_type": "markdown",
   "metadata": {},
   "source": [
    "\n",
    "# **ANÁLISIS DE RENTABILIDAD**\n"
   ]
  },
  {
   "cell_type": "markdown",
   "metadata": {},
   "source": [
    "### **KPIS para medir la conveniencia de invertir en un nuevo negocio gastronómico**\n"
   ]
  },
  {
   "cell_type": "markdown",
   "metadata": {},
   "source": [
    "#### 1. **Tasa de Crecimiento de Calificaciones (Calificación promedio mensual)**\n",
    "\n",
    "##### **Objetivo: Evaluar la evolución en la satisfaccion del público con el rubro elegido**\n",
    "\n",
    "##### Este KPI mide el cambio en la calificación promedio de los negocios gastronómicos o de una categoria específica en el último trimestre respecto al anterior \n",
    "##### Haremos un merge de los datasets business y reviews sobre business id para determinar categoria del negocio, fecha y calificación.\n",
    "##### Calculamos cuánto aumentó o disminuyó la calificación promedio en el último trimestre respecto del anterior, entendiendo que una caída puede ser beneficioso para un nuevo emprendimiento.\n"
   ]
  },
  {
   "cell_type": "code",
   "execution_count": null,
   "metadata": {},
   "outputs": [],
   "source": [
    "# Código a trabajar para este kpi\n",
    "\n",
    "# reviews['date'] = pd.to_datetime(reviews['date']) \n",
    "# reviews.set_index('date', inplace=True)\n",
    "# monthly_avg_rating = reviews.groupby(['categories', pd.Grouper(freq='M')])['stars'].mean().reset_index()\n",
    "# monthly_avg_rating.columns = ['categories', 'mes', 'stars_promedio']\n"
   ]
  },
  {
   "cell_type": "markdown",
   "metadata": {},
   "source": [
    "#### 2- **Porcentaje de negocios exitosos**\n",
    "\n",
    "##### **Objetivo: Evaluar la probabilidad de éxito de un negocio en determinada zona**\n",
    "\n",
    "##### Este KPI mide la cantidad de negocios exitosos, medido en las calificaciones recibidas, en relación a la cantidad de negocios abiertos en el último trimestre\n",
    "\n"
   ]
  },
  {
   "cell_type": "code",
   "execution_count": null,
   "metadata": {},
   "outputs": [],
   "source": [
    "# Código a trabajar \n",
    "\n",
    "# negocios_esitosos = Negocios exitosos/Total de Negocios abierto"
   ]
  },
  {
   "cell_type": "markdown",
   "metadata": {},
   "source": [
    "#### 3- **Tasa de Saturación del Mercado (Ratio de negocios por habitantes)**\n",
    "\n",
    "##### **Objetivo: Evaluar la cantidad de negocios de determinado rubro en relación a la cantidad de hipotéticos consumidores**\n",
    "\n",
    "##### Este KPI mide la cantidad de negocios en una categoría específica en relación con la población de la ubicación en el último trimestre en relación al anterior, a fin de determinar si hay margen para un nuevo local en la zona.\n",
    "\n",
    "##### Asumimos, en principio, que el ratio debería ser de un negocio por cada 1000 habitantes. \n",
    "\n",
    "##### Trabajaremos con el dataser business (que no indica cantidad de negocios por categoria y zona) y un dataset adicional que especificará la población de cada ciudad."
   ]
  },
  {
   "cell_type": "code",
   "execution_count": null,
   "metadata": {},
   "outputs": [],
   "source": [
    "# Código a trabajar\n",
    "\n",
    "# negocio_por_habitante = business.groupby(['categories', 'city']).size().reset_index(name='cantidad_negocios')\n",
    "# negocio_por_habitante = negocio_por_habitante.merge(poblacion_df, on='city')\n",
    "# negocio_por_habitante['ratio_negocios_habitantes'] = negocio_por_habitante['cantidad_negocios'] / negocio_por_habitante['poblacion']\n"
   ]
  }
 ],
 "metadata": {
  "language_info": {
   "name": "python"
  }
 },
 "nbformat": 4,
 "nbformat_minor": 2
}
