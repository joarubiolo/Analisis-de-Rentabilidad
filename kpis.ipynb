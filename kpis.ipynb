{
 "cells": [
  {
   "cell_type": "markdown",
   "metadata": {},
   "source": [
    "\n",
    "# **ANÁLISIS DE RENTABILIDAD**\n"
   ]
  },
  {
   "cell_type": "markdown",
   "metadata": {},
   "source": [
    "### **KPIS para medir la conveniencia de invertir en un nuevo negocio gastronómico**\n"
   ]
  },
  {
   "cell_type": "markdown",
   "metadata": {},
   "source": [
    "#### 1. **Tasa de Crecimiento de Calificaciones (Calificación promedio mensual)**\n",
    "\n",
    "##### **Objetivo: Evaluar la evolución en la satisfaccion del público con el rubro elegido**\n",
    "\n",
    "##### Este KPI mide el cambio en la calificación promedio de los negocios gastronómicos o de una categoria específica en el último trimestre respecto al anterior \n",
    "##### Haremos un merge de los datasets business y reviews sobre business id para determinar categoria del negocio, fecha y calificación.\n",
    "##### Calculamos cuánto aumentó o disminuyó la calificación promedio en el último trimestre respecto del anterior, entendiendo que una caída puede ser beneficiosa para un nuevo emprendimiento.\n"
   ]
  },
  {
   "cell_type": "code",
   "execution_count": 1,
   "metadata": {},
   "outputs": [],
   "source": [
    "# Código a trabajar para este kpi\n",
    "\n",
    "# reviews['date'] = pd.to_datetime(reviews['date']) \n",
    "# reviews.set_index('date', inplace=True)\n",
    "# monthly_avg_rating = reviews.groupby(['categories', pd.Grouper(freq='M')])['stars'].mean().reset_index()\n",
    "# monthly_avg_rating.columns = ['categories', 'mes', 'stars_promedio']\n"
   ]
  },
  {
   "cell_type": "markdown",
   "metadata": {},
   "source": [
    "#### 2- **Porcentaje de negocios exitosos**\n",
    "\n",
    "##### **Objetivo: Evaluar la probabilidad de éxito de un negocio en determinada zona**\n",
    "\n",
    "##### Este KPI mide la cantidad de negocios exitosos, determinado por las calificaciones recibidas, en relación a la cantidad de negocios abiertos en el último trimestre\n",
    "\n"
   ]
  },
  {
   "cell_type": "code",
   "execution_count": null,
   "metadata": {},
   "outputs": [],
   "source": [
    "# Código a trabajar \n",
    "\n",
    "# negocios_exitosos = Negocios exitosos/Total de Negocios abierto"
   ]
  },
  {
   "cell_type": "markdown",
   "metadata": {},
   "source": [
    "#### 3- **Tasa de Saturación del Mercado (Ratio de negocios o actividad por habitantes)**\n",
    "\n",
    "##### **Objetivo: Evaluar la cantidad de negocios de determinado rubro en relación a la cantidad de hipotéticos consumidores**\n",
    "\n",
    "##### Este KPI mide la cantidad de negocios en una categoría específica en relación con la población de la ubicación en el último trimestre en relación al anterior, a fin de determinar si hay margen para un nuevo local en la zona.\n",
    "\n",
    "#### Como no tenemos los datos de negocios abiertos por fecha, vamos a deducirlo de las reviews: esto es, si un negocio tiene review en tal fecha es porque está abierto. Asumimos que si un negocio no tiene review en determinada fecha, o no existe o si esxiste no es representativo.\n",
    "\n",
    "##### Trabajaremos con el dataset business (que nos indica cantidad de negocios por categoria y zona), reviews (fecha de las reviews de cada local) y un dataset adicional que especificará la población de cada ciudad."
   ]
  },
  {
   "cell_type": "code",
   "execution_count": null,
   "metadata": {},
   "outputs": [],
   "source": [
    "# Código a trabajar\n",
    "\n",
    "# Estimamos cantidad de negocios en base a la existencia de reviews unicas por año\n",
    "\n",
    "# df['date'] = pd.to_datetime(df['date'])\n",
    "# df['year'] = df['date'].dt.year\n",
    "\n",
    "# cantidad_negocios = df.groupby('year')['business_id'].nunique().reset_index()\n",
    "# cantidad_negocios.columns = ['year', 'unique_business_count']\n",
    "\n",
    "\n",
    "# Hacemos un merge de business y un dataset adicional con poblacion total de las ciudades\n",
    "\n",
    "# negocio_por_habitante = negocio_por_habitante.merge(poblacion_df, on='city')\n",
    "\n",
    "# Hacemos un merge de negocio_por_habitante con cantidad_negocios\n",
    "\n",
    "# df_merged = pd.merge(negocio_por_habitante, cantidad_negocios, on='business_id')\n",
    "\n",
    "\n",
    "# Comparamos cantidad de negocios abiertos en una ciudad en el último trimestre respecto del trimestre anterior en la categoría elegida\n",
    "\n",
    "# df_merged['last_review_date'] = pd.to_datetime(['2024-03-31', '2024-02-15', '2024-03-20', '2024-01-10'])\n",
    "\n",
    "# ultimo_trimestre = df_merged[(df_merged['last_review_date'] >= '2024-01-01') & (df_merged['last_review_date'] <= '2024-03-31')]\n",
    "# trimestre_anterior = df_merged[(df_merged['last_review_date'] >= '2023-10-01') & (df_merged['last_review_date'] <= '2023-12-31')]\n",
    "\n",
    "# cantidad_ultimo_trimestre = ultimo_trimestre['cantidad'].sum()\n",
    "# cantidad_trimestre_anterior = trimestre_anterior['cantidad'].sum()\n",
    "\n",
    "\n",
    "\n"
   ]
  }
 ],
 "metadata": {
  "kernelspec": {
   "display_name": "Python 3",
   "language": "python",
   "name": "python3"
  },
  "language_info": {
   "codemirror_mode": {
    "name": "ipython",
    "version": 3
   },
   "file_extension": ".py",
   "mimetype": "text/x-python",
   "name": "python",
   "nbconvert_exporter": "python",
   "pygments_lexer": "ipython3",
   "version": "3.13.1"
  }
 },
 "nbformat": 4,
 "nbformat_minor": 2
}
